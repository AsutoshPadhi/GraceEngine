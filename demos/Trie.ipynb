{
 "cells": [
  {
   "cell_type": "code",
   "execution_count": 1,
   "metadata": {},
   "outputs": [
    {
     "name": "stdout",
     "output_type": "stream",
     "text": [
      "Successful\n"
     ]
    }
   ],
   "source": [
    "from anytree import Node, RenderTree, AsciiStyle\n",
    "from anytree.exporter import JsonExporter\n",
    "from anytree.importer import JsonImporter\n",
    "import json\n",
    "print(\"Successful\")"
   ]
  },
  {
   "cell_type": "code",
   "execution_count": 4,
   "metadata": {},
   "outputs": [],
   "source": [
    "class Trie:\n",
    "\n",
    "    def showTree(node):\n",
    "        print(RenderTree(node, style=AsciiStyle()).by_attr())\n",
    "        \n",
    "    \n",
    "    def traverseTree(node, cmd:str, length:int, cnt:int):\n",
    "        \n",
    "        '''\n",
    "            This function receives a tree and the instruction and then executes the command\n",
    "            If it has to work with json, first convert it into a tree using import.read(filehandle)\n",
    "        '''\n",
    "\n",
    "\n",
    "        '''Split the input commands and check each keyword hierarchically'''\n",
    "        key = cmd.split(' ',cnt+1)[cnt]\n",
    "        \n",
    "        for child in node.children:\n",
    "            if child.name == key:\n",
    "                if cnt == length-1:\n",
    "                    if child.isLeaf == True:\n",
    "                        # TODO : function call or assign an id to execute the code\n",
    "                        print(\"Execute the corresponding code\")\n",
    "                        return\n",
    "                Trie.traverseTree(child, cmd, length, cnt+1)\n",
    "\n",
    "\n",
    "    def addNode(node, cmd:str, cnt:int, init:int):\n",
    "        key = cmd.split(' ',init+1)[init]\n",
    "        flag = 0\n",
    "        for child in node.children:\n",
    "            if child.name == key:\n",
    "                flag = 1\n",
    "                if init != cnt-1:\n",
    "                    Trie.addNode(child,cmd,cnt,init+1)\n",
    "                else:\n",
    "                    print(\"Node already exists\")\n",
    "                    return\n",
    "        if flag == 0:\n",
    "            isLeaf = False\n",
    "            if init == cnt-1:\n",
    "                isLeaf = True\n",
    "            \n",
    "            newNode = Node(key, parent=node, isLeaf=True)\n",
    "\n",
    "            if init != cnt-1:\n",
    "                Trie.addNode(newNode,cmd,cnt,init+1)\n",
    "\n",
    "\n",
    "    '''Convert the given tree into json'''\n",
    "    def toJson(root):\n",
    "        exporter = JsonExporter(indent=2, sort_keys=False)\n",
    "        print(exporter.export(root))\n",
    "\n",
    "        with open('trie.json','w') as f:\n",
    "            exporter.write(root,f)\n",
    "\n",
    "\n",
    "def main():\n",
    "    _ = Trie()\n",
    "\n",
    "if __name__ == '__main__':\n",
    "    main()"
   ]
  },
  {
   "cell_type": "code",
   "execution_count": 5,
   "metadata": {},
   "outputs": [
    {
     "name": "stdout",
     "output_type": "stream",
     "text": [
      "Node already exists\n",
      "Execute the corresponding code\n",
      "*\n",
      "|-- create\n",
      "|   |-- array\n",
      "|   |   +-- integers\n",
      "|   +-- list\n",
      "|       +-- integers\n",
      "+-- repeat\n",
      "    +-- while\n"
     ]
    }
   ],
   "source": [
    "root = Node(\"*\")\n",
    "\n",
    "query = \"create array integers\"\n",
    "Trie.addNode(root,query,len(query.split()),0)\n",
    "\n",
    "\n",
    "query = \"create array integers\"\n",
    "Trie.addNode(root,query,len(query.split()),0)\n",
    "\n",
    "\n",
    "query = \"create list integers\"\n",
    "Trie.addNode(root,query,len(query.split()),0)\n",
    "\n",
    "\n",
    "query = \"repeat while\"\n",
    "Trie.addNode(root,query,len(query.split()),0)\n",
    "\n",
    "query = \"repeat while\"\n",
    "Trie.traverseTree(root,query,len(query.split()),0)\n",
    "\n",
    "Trie.showTree(root)"
   ]
  }
 ],
 "metadata": {
  "kernelspec": {
   "display_name": "Python 3",
   "language": "python",
   "name": "python3"
  },
  "language_info": {
   "codemirror_mode": {
    "name": "ipython",
    "version": 3
   },
   "file_extension": ".py",
   "mimetype": "text/x-python",
   "name": "python",
   "nbconvert_exporter": "python",
   "pygments_lexer": "ipython3",
   "version": "3.6.4"
  }
 },
 "nbformat": 4,
 "nbformat_minor": 2
}
