{
 "cells": [
  {
   "cell_type": "code",
   "execution_count": 1,
   "metadata": {
    "scrolled": true
   },
   "outputs": [],
   "source": [
    "import ast\n",
    "import sys\n",
    "import showast\n",
    "import os\n",
    "sys.path.insert(0, '../')\n",
    "from engine.hardcode_recognizer import HardCodeRecognizer\n",
    "nl = HardCodeRecognizer(comments=True)"
   ]
  },
  {
   "cell_type": "code",
   "execution_count": 2,
   "metadata": {},
   "outputs": [
    {
     "data": {
      "text/plain": [
       "'/home/juvekaradheesh/.conda/envs/grace/bin/python3'"
      ]
     },
     "execution_count": 2,
     "metadata": {},
     "output_type": "execute_result"
    }
   ],
   "source": [
    "sys.executable"
   ]
  },
  {
   "cell_type": "code",
   "execution_count": 3,
   "metadata": {},
   "outputs": [],
   "source": [
    "out_data1 = nl.recognize(\"print hello world\")"
   ]
  },
  {
   "cell_type": "code",
   "execution_count": 4,
   "metadata": {},
   "outputs": [
    {
     "name": "stdout",
     "output_type": "stream",
     "text": [
      "<_ast.Module object at 0x7f75b818cac8>\n",
      "hello world\n"
     ]
    }
   ],
   "source": [
    "code = ast.parse(out_data1)\n",
    "print(code)\n",
    "exec(compile(code, filename=\"\", mode=\"exec\"))"
   ]
  },
  {
   "cell_type": "code",
   "execution_count": 5,
   "metadata": {},
   "outputs": [
    {
     "data": {
      "text/plain": [
       "\"Module(body=[Expr(value=Call(func=Name(id='print', ctx=Load()), args=[Str(s='hello world')], keywords=[])), Expr(value=Call(func=Name(id='print', ctx=Load()), args=[Str(s='apple')], keywords=[]))])\""
      ]
     },
     "execution_count": 5,
     "metadata": {},
     "output_type": "execute_result"
    }
   ],
   "source": [
    "out_data2 = nl.recognize(\"print apple\")\n",
    "code = ast.parse(out_data1 + \"\\n\" + out_data2)\n",
    "ast.dump(code)"
   ]
  },
  {
   "cell_type": "code",
   "execution_count": 7,
   "metadata": {},
   "outputs": [
    {
     "name": "stdout",
     "output_type": "stream",
     "text": [
      "print(\"hello world\")\n",
      "print(\"apple\")\n",
      "# set gorilla to 0\n",
      "gorilla = 0\n",
      "print(gorilla)\n"
     ]
    }
   ],
   "source": [
    "out_data3 = nl.recognize(\"set gorilla to 0\")\n",
    "out_data4 = nl.recognize(\"print gorilla\")\n",
    "code = ast.parse(out_data1 + \"\\n\" + out_data2 + \"\\n\" + out_data3 + \"\\n\" + out_data4)\n",
    "print(out_data1 + \"\\n\" + out_data2 + \"\\n\" + out_data3 + \"\\n\" + out_data4)"
   ]
  },
  {
   "cell_type": "code",
   "execution_count": 8,
   "metadata": {},
   "outputs": [
    {
     "data": {
      "text/plain": [
       "\"Module(body=[Expr(value=Call(func=Name(id='print', ctx=Load()), args=[Str(s='hello world')], keywords=[])), Expr(value=Call(func=Name(id='print', ctx=Load()), args=[Str(s='apple')], keywords=[])), Assign(targets=[Name(id='gorilla', ctx=Store())], value=Num(n=0)), Expr(value=Call(func=Name(id='print', ctx=Load()), args=[Name(id='gorilla', ctx=Load())], keywords=[]))])\""
      ]
     },
     "execution_count": 8,
     "metadata": {},
     "output_type": "execute_result"
    }
   ],
   "source": [
    "ast.dump(code)"
   ]
  }
 ],
 "metadata": {
  "kernelspec": {
   "display_name": "Python 3",
   "language": "python",
   "name": "python3"
  },
  "language_info": {
   "codemirror_mode": {
    "name": "ipython",
    "version": 3
   },
   "file_extension": ".py",
   "mimetype": "text/x-python",
   "name": "python",
   "nbconvert_exporter": "python",
   "pygments_lexer": "ipython3",
   "version": "3.6.6"
  }
 },
 "nbformat": 4,
 "nbformat_minor": 2
}
